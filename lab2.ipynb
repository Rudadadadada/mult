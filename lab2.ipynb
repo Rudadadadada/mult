{
 "cells": [
  {
   "cell_type": "code",
   "execution_count": 5,
   "metadata": {},
   "outputs": [],
   "source": [
    "from sklearn.datasets import load_breast_cancer\n",
    "from sklearn.model_selection import train_test_split\n",
    "from sklearn.linear_model import LogisticRegression\n",
    "from sklearn.metrics import accuracy_score, precision_score, recall_score, f1_score"
   ]
  },
  {
   "cell_type": "code",
   "execution_count": 2,
   "metadata": {},
   "outputs": [
    {
     "name": "stdout",
     "output_type": "stream",
     "text": [
      "Baseline Logistic Regression Classification Metrics:\n",
      "Accuracy: 0.956140350877193\n",
      "Precision: 0.9459459459459459\n",
      "Recall: 0.9859154929577465\n",
      "F1 Score: 0.9655172413793104\n"
     ]
    }
   ],
   "source": [
    "# Загрузка данных\n",
    "data_class = load_breast_cancer()\n",
    "X_class, y_class = data_class.data, data_class.target\n",
    "\n",
    "# Разделение данных на тренировочную и тестовую выборки\n",
    "X_train_class, X_test_class, y_train_class, y_test_class = train_test_split(X_class, y_class, test_size=0.2, random_state=42)\n",
    "\n",
    "# Бейзлайн модель логистической регрессии\n",
    "log_reg = LogisticRegression(max_iter=10000)\n",
    "log_reg.fit(X_train_class, y_train_class)\n",
    "y_pred_class = log_reg.predict(X_test_class)\n",
    "\n",
    "# Оценка\n",
    "accuracy_class = accuracy_score(y_test_class, y_pred_class)\n",
    "precision_class = precision_score(y_test_class, y_pred_class)\n",
    "recall_class = recall_score(y_test_class, y_pred_class)\n",
    "f1_class = f1_score(y_test_class, y_pred_class)\n",
    "\n",
    "print(f\"Baseline Logistic Regression Classification Metrics:\\nAccuracy: {accuracy_class}\\nPrecision: {precision_class}\\nRecall: {recall_class}\\nF1 Score: {f1_class}\")"
   ]
  },
  {
   "cell_type": "code",
   "execution_count": 6,
   "metadata": {},
   "outputs": [],
   "source": [
    "from sklearn.datasets import fetch_california_housing\n",
    "from sklearn.linear_model import LinearRegression\n",
    "from sklearn.metrics import mean_absolute_error, mean_squared_error, r2_score\n",
    "from sklearn.preprocessing import StandardScaler"
   ]
  },
  {
   "cell_type": "code",
   "execution_count": 21,
   "metadata": {},
   "outputs": [
    {
     "name": "stdout",
     "output_type": "stream",
     "text": [
      "Baseline Linear Regression Metrics:\n",
      "MAE: 0.5332001304956561\n",
      "MSE: 0.5558915986952441\n",
      "R-squared: 0.575787706032451\n"
     ]
    }
   ],
   "source": [
    "# Загрузка данных\n",
    "data_reg = fetch_california_housing()\n",
    "X_reg, y_reg = data_reg.data, data_reg.target\n",
    "\n",
    "# Нормализация данных\n",
    "scaler = StandardScaler()\n",
    "X_reg_scaled = scaler.fit_transform(X_reg)\n",
    "\n",
    "# Разделение данных на тренировочную и тестовую выборки\n",
    "X_train_reg, X_test_reg, y_train_reg, y_test_reg = train_test_split(X_reg_scaled, y_reg, test_size=0.2, random_state=42)\n",
    "\n",
    "\n",
    "lin_reg = LinearRegression()\n",
    "lin_reg.fit(X_train_reg, y_train_reg)\n",
    "y_pred_reg = lin_reg.predict(X_test_reg)\n",
    "\n",
    "# Оценка\n",
    "mae_reg = mean_absolute_error(y_test_reg, y_pred_reg)\n",
    "mse_reg = mean_squared_error(y_test_reg, y_pred_reg)\n",
    "r2_reg = r2_score(y_test_reg, y_pred_reg)\n",
    "\n",
    "print(f\"Baseline Linear Regression Metrics:\\nMAE: {mae_reg}\\nMSE: {mse_reg}\\nR-squared: {r2_reg}\")\n"
   ]
  },
  {
   "cell_type": "code",
   "execution_count": 22,
   "metadata": {},
   "outputs": [],
   "source": [
    "from sklearn.model_selection import GridSearchCV\n",
    "from sklearn.pipeline import Pipeline"
   ]
  },
  {
   "cell_type": "code",
   "execution_count": 23,
   "metadata": {},
   "outputs": [
    {
     "name": "stdout",
     "output_type": "stream",
     "text": [
      "Improved Logistic Regression Classification Metrics:\n",
      "Accuracy: 0.9912280701754386\n",
      "Precision: 0.9861111111111112\n",
      "Recall: 1.0\n",
      "F1 Score: 0.993006993006993\n"
     ]
    }
   ],
   "source": [
    "# Пайплайн для логистической регрессии\n",
    "pipeline_class = Pipeline([\n",
    "    ('scaler', StandardScaler()),\n",
    "    ('log_reg', LogisticRegression(max_iter=10000))\n",
    "])\n",
    "\n",
    "param_grid_class = {\n",
    "    'log_reg__C': [0.01, 0.1, 1, 10, 100],\n",
    "    'log_reg__solver': ['liblinear', 'saga']\n",
    "}\n",
    "\n",
    "grid_search_class = GridSearchCV(pipeline_class, param_grid_class, cv=5, scoring='accuracy')\n",
    "grid_search_class.fit(X_train_class, y_train_class)\n",
    "\n",
    "# Лучший классификатор\n",
    "best_log_reg = grid_search_class.best_estimator_\n",
    "\n",
    "# Оценка\n",
    "y_pred_class_improved = best_log_reg.predict(X_test_class)\n",
    "accuracy_class_improved = accuracy_score(y_test_class, y_pred_class_improved)\n",
    "precision_class_improved = precision_score(y_test_class, y_pred_class_improved)\n",
    "recall_class_improved = recall_score(y_test_class, y_pred_class_improved)\n",
    "f1_class_improved = f1_score(y_test_class, y_pred_class_improved)\n",
    "\n",
    "print(f\"Improved Logistic Regression Classification Metrics:\\nAccuracy: {accuracy_class_improved}\\nPrecision: {precision_class_improved}\\nRecall: {recall_class_improved}\\nF1 Score: {f1_class_improved}\")\n"
   ]
  },
  {
   "cell_type": "code",
   "execution_count": 10,
   "metadata": {},
   "outputs": [],
   "source": [
    "from sklearn.preprocessing import PolynomialFeatures"
   ]
  },
  {
   "cell_type": "code",
   "execution_count": 24,
   "metadata": {},
   "outputs": [
    {
     "name": "stdout",
     "output_type": "stream",
     "text": [
      "Improved Linear Regression Metrics:\n",
      "MAE: 0.4670009334696574\n",
      "MSE: 0.4643015238301253\n",
      "R-squared: 0.6456819729261881\n"
     ]
    }
   ],
   "source": [
    "# Пайплайн для линейной регрессии\n",
    "pipeline_reg = Pipeline([\n",
    "    ('scaler', StandardScaler()),\n",
    "    ('poly_features', PolynomialFeatures(degree=2, include_bias=False)),\n",
    "    ('lin_reg', LinearRegression())\n",
    "])\n",
    "\n",
    "pipeline_reg.fit(X_train_reg, y_train_reg)\n",
    "\n",
    "# Оценка\n",
    "y_pred_reg_improved = pipeline_reg.predict(X_test_reg)\n",
    "mae_reg_improved = mean_absolute_error(y_test_reg, y_pred_reg_improved)\n",
    "mse_reg_improved = mean_squared_error(y_test_reg, y_pred_reg_improved)\n",
    "r2_reg_improved = r2_score(y_test_reg, y_pred_reg_improved)\n",
    "\n",
    "print(f\"Improved Linear Regression Metrics:\\nMAE: {mae_reg_improved}\\nMSE: {mse_reg_improved}\\nR-squared: {r2_reg_improved}\")"
   ]
  },
  {
   "cell_type": "code",
   "execution_count": 13,
   "metadata": {},
   "outputs": [],
   "source": [
    "import numpy as np"
   ]
  },
  {
   "cell_type": "code",
   "execution_count": 14,
   "metadata": {},
   "outputs": [
    {
     "name": "stdout",
     "output_type": "stream",
     "text": [
      "Custom Logistic Regression Classification Metrics:\n",
      "Accuracy: 0.9473684210526315\n",
      "Precision: 1.0\n",
      "Recall: 0.9154929577464789\n",
      "F1 Score: 0.9558823529411765\n"
     ]
    },
    {
     "name": "stderr",
     "output_type": "stream",
     "text": [
      "/var/folders/z7/6_4lvtys3qxdkjdf67b7m5jw0000gn/T/ipykernel_22141/528997880.py:30: RuntimeWarning: overflow encountered in exp\n",
      "  return 1 / (1 + np.exp(-x))\n"
     ]
    }
   ],
   "source": [
    "class CustomLogisticRegression:\n",
    "    def __init__(self, learning_rate=0.01, n_iters=1000):\n",
    "        self.learning_rate = learning_rate\n",
    "        self.n_iters = n_iters\n",
    "        self.weights = None\n",
    "        self.bias = None\n",
    "\n",
    "    def fit(self, X, y):\n",
    "        n_samples, n_features = X.shape\n",
    "        self.weights = np.zeros(n_features)\n",
    "        self.bias = 0\n",
    "\n",
    "        for _ in range(self.n_iters):\n",
    "            model = np.dot(X, self.weights) + self.bias\n",
    "            y_predicted = self._sigmoid(model)\n",
    "\n",
    "            dw = (1 / n_samples) * np.dot(X.T, (y_predicted - y))\n",
    "            db = (1 / n_samples) * np.sum(y_predicted - y)\n",
    "\n",
    "            self.weights -= self.learning_rate * dw\n",
    "            self.bias -= self.learning_rate * db\n",
    "\n",
    "    def predict(self, X):\n",
    "        linear_model = np.dot(X, self.weights) + self.bias\n",
    "        y_predicted = self._sigmoid(linear_model)\n",
    "        y_predicted_labels = [1 if i > 0.5 else 0 for i in y_predicted]\n",
    "        return np.array(y_predicted_labels)\n",
    "\n",
    "    def _sigmoid(self, x):\n",
    "        return 1 / (1 + np.exp(-x))\n",
    "\n",
    "# Обучение и оценка пользовательской логистической регрессии\n",
    "custom_log_reg = CustomLogisticRegression(learning_rate=0.01, n_iters=1000)\n",
    "custom_log_reg.fit(X_train_class, y_train_class)\n",
    "y_pred_class_custom = custom_log_reg.predict(X_test_class)\n",
    "\n",
    "accuracy_class_custom = accuracy_score(y_test_class, y_pred_class_custom)\n",
    "precision_class_custom = precision_score(y_test_class, y_pred_class_custom)\n",
    "recall_class_custom = recall_score(y_test_class, y_pred_class_custom)\n",
    "f1_class_custom = f1_score(y_test_class, y_pred_class_custom)\n",
    "\n",
    "print(f\"Custom Logistic Regression Classification Metrics:\\nAccuracy: {accuracy_class_custom}\\nPrecision: {precision_class_custom}\\nRecall: {recall_class_custom}\\nF1 Score: {f1_class_custom}\")"
   ]
  },
  {
   "cell_type": "code",
   "execution_count": 25,
   "metadata": {},
   "outputs": [
    {
     "name": "stdout",
     "output_type": "stream",
     "text": [
      "Custom Linear Regression Metrics:\n",
      "MAE: 0.5482169312280617\n",
      "MSE: 0.5673403507337071\n",
      "R-squared: 0.5670509282565295\n"
     ]
    }
   ],
   "source": [
    "class CustomLinearRegression:\n",
    "    def __init__(self, learning_rate=0.01, n_iters=1000):\n",
    "        self.learning_rate = learning_rate\n",
    "        self.n_iters = n_iters\n",
    "        self.weights = None\n",
    "        self.bias = None\n",
    "\n",
    "    def fit(self, X, y):\n",
    "        n_samples, n_features = X.shape\n",
    "        self.weights = np.zeros(n_features)\n",
    "        self.bias = 0\n",
    "\n",
    "        for _ in range(self.n_iters):\n",
    "            y_predicted = np.dot(X, self.weights) + self.bias\n",
    "            dw = (1 / n_samples) * np.dot(X.T, (y_predicted - y))\n",
    "            db = (1 / n_samples) * np.sum(y_predicted - y)\n",
    "\n",
    "            self.weights -= self.learning_rate * dw\n",
    "            self.bias -= self.learning_rate * db\n",
    "\n",
    "    def predict(self, X):\n",
    "        return np.dot(X, self.weights) + self.bias\n",
    "\n",
    "# Обучение и оценка пользовательской линейной регрессии\n",
    "custom_lin_reg = CustomLinearRegression(learning_rate=0.01, n_iters=1000)\n",
    "custom_lin_reg.fit(X_train_reg, y_train_reg)\n",
    "y_pred_reg_custom = custom_lin_reg.predict(X_test_reg)\n",
    "\n",
    "mae_reg_custom = mean_absolute_error(y_test_reg, y_pred_reg_custom)\n",
    "mse_reg_custom = mean_squared_error(y_test_reg, y_pred_reg_custom)\n",
    "r2_reg_custom = r2_score(y_test_reg, y_pred_reg_custom)\n",
    "\n",
    "print(f\"Custom Linear Regression Metrics:\\nMAE: {mae_reg_custom}\\nMSE: {mse_reg_custom}\\nR-squared: {r2_reg_custom}\")"
   ]
  }
 ],
 "metadata": {
  "kernelspec": {
   "display_name": "venv",
   "language": "python",
   "name": "python3"
  },
  "language_info": {
   "codemirror_mode": {
    "name": "ipython",
    "version": 3
   },
   "file_extension": ".py",
   "mimetype": "text/x-python",
   "name": "python",
   "nbconvert_exporter": "python",
   "pygments_lexer": "ipython3",
   "version": "3.9.21"
  }
 },
 "nbformat": 4,
 "nbformat_minor": 2
}
