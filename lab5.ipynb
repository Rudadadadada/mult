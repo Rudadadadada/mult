{
 "cells": [
  {
   "cell_type": "code",
   "execution_count": 9,
   "metadata": {},
   "outputs": [],
   "source": [
    "from sklearn.datasets import load_breast_cancer\n",
    "from sklearn.datasets import fetch_california_housing\n",
    "from sklearn.model_selection import train_test_split\n",
    "from sklearn.ensemble import GradientBoostingClassifier\n",
    "from sklearn.metrics import accuracy_score, precision_score, recall_score, f1_score\n",
    "from sklearn.ensemble import GradientBoostingRegressor\n",
    "from sklearn.metrics import mean_absolute_error, mean_squared_error, r2_score"
   ]
  },
  {
   "cell_type": "code",
   "execution_count": 3,
   "metadata": {},
   "outputs": [
    {
     "name": "stdout",
     "output_type": "stream",
     "text": [
      "Baseline Gradient Boosting Classification Metrics:\n",
      "Accuracy: 0.956140350877193\n",
      "Precision: 0.9583333333333334\n",
      "Recall: 0.971830985915493\n",
      "F1 Score: 0.965034965034965\n"
     ]
    }
   ],
   "source": [
    "# Загрузка данных\n",
    "data_class = load_breast_cancer()\n",
    "X_class, y_class = data_class.data, data_class.target\n",
    "\n",
    "# Разделение данных на тренировочную и тестовую выборки\n",
    "X_train_class, X_test_class, y_train_class, y_test_class = train_test_split(X_class, y_class, test_size=0.2, random_state=42)\n",
    "\n",
    "# Бейзлайн модель градиентного бустинга для классификации\n",
    "gb_clf = GradientBoostingClassifier(random_state=42)\n",
    "gb_clf.fit(X_train_class, y_train_class)\n",
    "y_pred_class = gb_clf.predict(X_test_class)\n",
    "\n",
    "# Оценка\n",
    "accuracy_class = accuracy_score(y_test_class, y_pred_class)\n",
    "precision_class = precision_score(y_test_class, y_pred_class)\n",
    "recall_class = recall_score(y_test_class, y_pred_class)\n",
    "f1_class = f1_score(y_test_class, y_pred_class)\n",
    "\n",
    "print(f\"Baseline Gradient Boosting Classification Metrics:\\nAccuracy: {accuracy_class}\\nPrecision: {precision_class}\\nRecall: {recall_class}\\nF1 Score: {f1_class}\")"
   ]
  },
  {
   "cell_type": "code",
   "execution_count": 10,
   "metadata": {},
   "outputs": [
    {
     "name": "stdout",
     "output_type": "stream",
     "text": [
      "Baseline Gradient Boosting Regression Metrics:\n",
      "MAE: 0.37164256904255966\n",
      "MSE: 0.2939973248643864\n",
      "R-squared: 0.7756446042829697\n"
     ]
    }
   ],
   "source": [
    "# Загрузка данных\n",
    "data_reg = fetch_california_housing()\n",
    "X_reg, y_reg = data_reg.data, data_reg.target\n",
    "\n",
    "# Разделение данных на тренировочную и тестовую выборки\n",
    "X_train_reg, X_test_reg, y_train_reg, y_test_reg = train_test_split(X_reg, y_reg, test_size=0.2, random_state=42)\n",
    "\n",
    "# Бейзлайн модель градиентного бустинга для регрессии\n",
    "gb_reg = GradientBoostingRegressor(random_state=42)\n",
    "gb_reg.fit(X_train_reg, y_train_reg)\n",
    "y_pred_reg = gb_reg.predict(X_test_reg)\n",
    "\n",
    "# Оценка\n",
    "mae_reg = mean_absolute_error(y_test_reg, y_pred_reg)\n",
    "mse_reg = mean_squared_error(y_test_reg, y_pred_reg)\n",
    "r2_reg = r2_score(y_test_reg, y_pred_reg)\n",
    "\n",
    "print(f\"Baseline Gradient Boosting Regression Metrics:\\nMAE: {mae_reg}\\nMSE: {mse_reg}\\nR-squared: {r2_reg}\")"
   ]
  },
  {
   "cell_type": "code",
   "execution_count": 4,
   "metadata": {},
   "outputs": [],
   "source": [
    "from sklearn.model_selection import GridSearchCV"
   ]
  },
  {
   "cell_type": "code",
   "execution_count": 5,
   "metadata": {},
   "outputs": [
    {
     "name": "stdout",
     "output_type": "stream",
     "text": [
      "Improved Gradient Boosting Classification Metrics:\n",
      "Accuracy: 0.956140350877193\n",
      "Precision: 0.9583333333333334\n",
      "Recall: 0.971830985915493\n",
      "F1 Score: 0.965034965034965\n"
     ]
    }
   ],
   "source": [
    "# Параметры для поиска\n",
    "param_grid = {\n",
    "    'n_estimators': [100, 200],\n",
    "    'learning_rate': [0.1, 0.01, 0.001],\n",
    "    'max_depth': [3, 5, 7]\n",
    "}\n",
    "\n",
    "grid_search = GridSearchCV(\n",
    "    GradientBoostingClassifier(random_state=42),\n",
    "    param_grid,\n",
    "    cv=3,\n",
    "    scoring='f1',\n",
    "    n_jobs=-1\n",
    ")\n",
    "\n",
    "grid_search.fit(X_train_class, y_train_class)\n",
    "\n",
    "# Лучший классификатор\n",
    "best_gb_clf = grid_search.best_estimator_\n",
    "\n",
    "# Оценка\n",
    "y_pred_class_improved = best_gb_clf.predict(X_test_class)\n",
    "accuracy_class_improved = accuracy_score(y_test_class, y_pred_class_improved)\n",
    "precision_class_improved = precision_score(y_test_class, y_pred_class_improved)\n",
    "recall_class_improved = recall_score(y_test_class, y_pred_class_improved)\n",
    "f1_class_improved = f1_score(y_test_class, y_pred_class_improved)\n",
    "\n",
    "print(f\"Improved Gradient Boosting Classification Metrics:\\nAccuracy: {accuracy_class_improved}\\nPrecision: {precision_class_improved}\\nRecall: {recall_class_improved}\\nF1 Score: {f1_class_improved}\")"
   ]
  },
  {
   "cell_type": "code",
   "execution_count": 11,
   "metadata": {},
   "outputs": [
    {
     "name": "stdout",
     "output_type": "stream",
     "text": [
      "Improved Gradient Boosting Regression Metrics:\n",
      "MAE: 0.3140484519884909\n",
      "MSE: 0.22388069595607893\n",
      "R-squared: 0.8291520436187658\n"
     ]
    }
   ],
   "source": [
    "# Параметры для поиска\n",
    "param_grid_reg = {\n",
    "    'n_estimators': [100, 200],\n",
    "    'learning_rate': [0.1, 0.01],\n",
    "    'max_depth': [3, 5]\n",
    "}\n",
    "\n",
    "grid_search_reg = GridSearchCV(\n",
    "    GradientBoostingRegressor(random_state=42),\n",
    "    param_grid_reg,\n",
    "    cv=3,\n",
    "    scoring='neg_mean_squared_error',\n",
    "    n_jobs=-1\n",
    ")\n",
    "\n",
    "grid_search_reg.fit(X_train_reg, y_train_reg)\n",
    "\n",
    "# Лучший регрессор\n",
    "best_gb_reg = grid_search_reg.best_estimator_\n",
    "\n",
    "# Оценка\n",
    "y_pred_reg_improved = best_gb_reg.predict(X_test_reg)\n",
    "mae_reg_improved = mean_absolute_error(y_test_reg, y_pred_reg_improved)\n",
    "mse_reg_improved = mean_squared_error(y_test_reg, y_pred_reg_improved)\n",
    "r2_reg_improved = r2_score(y_test_reg, y_pred_reg_improved)\n",
    "\n",
    "print(f\"Improved Gradient Boosting Regression Metrics:\\nMAE: {mae_reg_improved}\\nMSE: {mse_reg_improved}\\nR-squared: {r2_reg_improved}\")"
   ]
  },
  {
   "cell_type": "code",
   "execution_count": 18,
   "metadata": {},
   "outputs": [],
   "source": [
    "import numpy as np\n",
    "from sklearn.tree import DecisionTreeRegressor\n",
    "from scipy.special import expit, logit\n"
   ]
  },
  {
   "cell_type": "code",
   "execution_count": 19,
   "metadata": {},
   "outputs": [
    {
     "name": "stdout",
     "output_type": "stream",
     "text": [
      "Custom Gradient Boosting Classification Metrics:\n",
      "Accuracy: 0.956140350877193\n",
      "Precision: 0.9583333333333334\n",
      "Recall: 0.971830985915493\n",
      "F1 Score: 0.965034965034965\n"
     ]
    }
   ],
   "source": [
    "class CustomGradientBoostingClassifier:\n",
    "    def __init__(self, n_estimators=100, learning_rate=0.1, max_depth=3):\n",
    "        self.n_estimators = n_estimators\n",
    "        self.learning_rate = learning_rate\n",
    "        self.max_depth = max_depth\n",
    "        self.models = []\n",
    "\n",
    "    def fit(self, X, y):\n",
    "        self.models = []\n",
    "        # Инициализация с логитов 0.5\n",
    "        y_prob = np.full(y.shape, 0.5)\n",
    "        y_pred_logit = logit(y_prob)\n",
    "        \n",
    "        for _ in range(self.n_estimators):\n",
    "            # Вычисление отрицательных градиентов (разность между реальными классами и вероятностями текущей модели)\n",
    "            residuals = y - expit(y_pred_logit)\n",
    "            # Обучение нового дерева на этих остатках\n",
    "            tree = DecisionTreeRegressor(max_depth=self.max_depth)\n",
    "            tree.fit(X, residuals)\n",
    "            # Обновление логитов\n",
    "            y_pred_logit += self.learning_rate * tree.predict(X)\n",
    "            self.models.append(tree)\n",
    "\n",
    "    def predict(self, X):\n",
    "        y_pred_logit = np.full(X.shape[0], 0.5)\n",
    "        for tree in self.models:\n",
    "            y_pred_logit += self.learning_rate * tree.predict(X)\n",
    "        y_prob = expit(y_pred_logit)\n",
    "        # Преобразование вероятностей в бинарные предсказания\n",
    "        return (y_prob > 0.5).astype(int)\n",
    "\n",
    "# Загрузка данных\n",
    "data_class = load_breast_cancer()\n",
    "X_class, y_class = data_class.data, data_class.target\n",
    "\n",
    "# Разделение данных на тренировочную и тестовую выборки\n",
    "X_train_class, X_test_class, y_train_class, y_test_class = train_test_split(X_class, y_class, test_size=0.2, random_state=42)\n",
    "\n",
    "# Обучение и оценка кастомного градиентного бустинга\n",
    "custom_gb_clf = CustomGradientBoostingClassifier(n_estimators=100, learning_rate=0.1, max_depth=3)\n",
    "custom_gb_clf.fit(X_train_class, y_train_class)\n",
    "y_pred_class_custom = custom_gb_clf.predict(X_test_class)\n",
    "\n",
    "# Оценка\n",
    "accuracy_class_custom = accuracy_score(y_test_class, y_pred_class_custom)\n",
    "precision_class_custom = precision_score(y_test_class, y_pred_class_custom)\n",
    "recall_class_custom = recall_score(y_test_class, y_pred_class_custom)\n",
    "f1_class_custom = f1_score(y_test_class, y_pred_class_custom)\n",
    "\n",
    "print(f\"Custom Gradient Boosting Classification Metrics:\\nAccuracy: {accuracy_class_custom}\\nPrecision: {precision_class_custom}\\nRecall: {recall_class_custom}\\nF1 Score: {f1_class_custom}\")"
   ]
  },
  {
   "cell_type": "code",
   "execution_count": 14,
   "metadata": {},
   "outputs": [
    {
     "name": "stdout",
     "output_type": "stream",
     "text": [
      "Custom Gradient Boosting Regression Metrics:\n",
      "MAE: 0.37162030240959865\n",
      "MSE: 0.2939346830965822\n",
      "R-squared: 0.7756924075023037\n"
     ]
    }
   ],
   "source": [
    "class CustomGradientBoostingRegressor:\n",
    "    def __init__(self, n_estimators=100, learning_rate=0.1, max_depth=3):\n",
    "        self.n_estimators = n_estimators\n",
    "        self.learning_rate = learning_rate\n",
    "        self.max_depth = max_depth\n",
    "        self.models = []\n",
    "\n",
    "    def fit(self, X, y):\n",
    "        self.models = []\n",
    "        y_pred = np.zeros(y.shape)\n",
    "        for _ in range(self.n_estimators):\n",
    "            residuals = y - y_pred\n",
    "            tree = DecisionTreeRegressor(max_depth=self.max_depth)\n",
    "            tree.fit(X, residuals)\n",
    "            y_pred += self.learning_rate * tree.predict(X)\n",
    "            self.models.append(tree)\n",
    "\n",
    "    def predict(self, X):\n",
    "        y_pred = np.zeros(X.shape[0])\n",
    "        for tree in self.models:\n",
    "            y_pred += self.learning_rate * tree.predict(X)\n",
    "        return y_pred\n",
    "\n",
    "# Обучение и оценка кастомного градиентного бустинга\n",
    "custom_gb_reg = CustomGradientBoostingRegressor(n_estimators=100, learning_rate=0.1, max_depth=3)\n",
    "custom_gb_reg.fit(X_train_reg, y_train_reg)\n",
    "y_pred_reg_custom = custom_gb_reg.predict(X_test_reg)\n",
    "\n",
    "mae_reg_custom = mean_absolute_error(y_test_reg, y_pred_reg_custom)\n",
    "mse_reg_custom = mean_squared_error(y_test_reg, y_pred_reg_custom)\n",
    "r2_reg_custom = r2_score(y_test_reg, y_pred_reg_custom)\n",
    "\n",
    "print(f\"Custom Gradient Boosting Regression Metrics:\\nMAE: {mae_reg_custom}\\nMSE: {mse_reg_custom}\\nR-squared: {r2_reg_custom}\")"
   ]
  }
 ],
 "metadata": {
  "kernelspec": {
   "display_name": "venv",
   "language": "python",
   "name": "python3"
  },
  "language_info": {
   "codemirror_mode": {
    "name": "ipython",
    "version": 3
   },
   "file_extension": ".py",
   "mimetype": "text/x-python",
   "name": "python",
   "nbconvert_exporter": "python",
   "pygments_lexer": "ipython3",
   "version": "3.9.21"
  }
 },
 "nbformat": 4,
 "nbformat_minor": 2
}
