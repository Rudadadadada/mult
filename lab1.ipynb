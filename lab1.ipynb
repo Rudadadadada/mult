{
 "cells": [
  {
   "cell_type": "code",
   "execution_count": 7,
   "metadata": {},
   "outputs": [],
   "source": [
    "import numpy as np\n",
    "from sklearn.datasets import load_breast_cancer\n",
    "from sklearn.datasets import fetch_california_housing\n",
    "from sklearn.model_selection import train_test_split\n",
    "from sklearn.preprocessing import StandardScaler\n",
    "from sklearn.neighbors import KNeighborsClassifier, KNeighborsRegressor\n",
    "from sklearn.metrics import accuracy_score, precision_score, recall_score, f1_score, mean_absolute_error, mean_squared_error, r2_score"
   ]
  },
  {
   "cell_type": "code",
   "execution_count": 12,
   "metadata": {},
   "outputs": [
    {
     "name": "stdout",
     "output_type": "stream",
     "text": [
      "Classification Metrics:\n",
      "Accuracy: 0.9298245614035088\n",
      "Precision: 0.9315068493150684\n",
      "Recall: 0.9577464788732394\n",
      "F1 Score: 0.9444444444444444\n",
      "\n",
      "Regression Metrics:\n",
      "MAE: 0.4599198611111111\n",
      "MSE: 0.4666634350517549\n",
      "R-squared: 0.6438795499720962\n"
     ]
    }
   ],
   "source": [
    "# Загрузка данных для классификации\n",
    "data = load_breast_cancer()\n",
    "X, y = data.data, data.target\n",
    "\n",
    "# Разделение данных на тренировочную и тестовую выборки для классификации\n",
    "X_train, X_test, y_train, y_test = train_test_split(X, y, test_size=0.2, random_state=42)\n",
    "\n",
    "# Бейзлайн модель без оптимизации\n",
    "knn_classifier_baseline = KNeighborsClassifier(n_neighbors=3)\n",
    "knn_classifier_baseline.fit(X_train, y_train)\n",
    "\n",
    "# Оценка бейзлайн модели\n",
    "y_pred_baseline = knn_classifier_baseline.predict(X_test)\n",
    "accuracy_baseline = accuracy_score(y_test, y_pred_baseline)\n",
    "precision_baseline = precision_score(y_test, y_pred_baseline)\n",
    "recall_baseline = recall_score(y_test, y_pred_baseline)\n",
    "f1_baseline = f1_score(y_test, y_pred_baseline)\n",
    "\n",
    "print(f\"Classification Metrics:\\nAccuracy: {accuracy_baseline}\\nPrecision: {precision_baseline}\\nRecall: {recall_baseline}\\nF1 Score: {f1_baseline}\")\n",
    "\n",
    "# Загрузка данных для регрессии\n",
    "boston = fetch_california_housing()\n",
    "X_boston, y_boston = boston.data, boston.target\n",
    "\n",
    "# Разделение данных на тренировочную и тестовую выборки для регрессии\n",
    "X_train_boston, X_test_boston, y_train_boston, y_test_boston = train_test_split(X_boston, y_boston, test_size=0.2, random_state=42)\n",
    "\n",
    "# Стандартизация данных для регрессии\n",
    "scaler = StandardScaler()\n",
    "X_train_boston = scaler.fit_transform(X_train_boston)\n",
    "X_test_boston = scaler.transform(X_test_boston)\n",
    "\n",
    "# Создание и обучение модели KNN для регрессии\n",
    "knn_regressor = KNeighborsRegressor(n_neighbors=3)\n",
    "knn_regressor.fit(X_train_boston, y_train_boston)\n",
    "\n",
    "# Оценка модели для регрессии\n",
    "y_pred_boston = knn_regressor.predict(X_test_boston)\n",
    "mae = mean_absolute_error(y_test_boston, y_pred_boston)\n",
    "mse = mean_squared_error(y_test_boston, y_pred_boston)\n",
    "r2 = r2_score(y_test_boston, y_pred_boston)\n",
    "\n",
    "print(f\"\\nRegression Metrics:\\nMAE: {mae}\\nMSE: {mse}\\nR-squared: {r2}\")"
   ]
  },
  {
   "cell_type": "code",
   "execution_count": 10,
   "metadata": {},
   "outputs": [],
   "source": [
    "from sklearn.pipeline import Pipeline\n",
    "from sklearn.model_selection import GridSearchCV\n",
    "from sklearn.impute import SimpleImputer\n",
    "from sklearn.preprocessing import PolynomialFeatures"
   ]
  },
  {
   "cell_type": "code",
   "execution_count": 11,
   "metadata": {},
   "outputs": [
    {
     "name": "stdout",
     "output_type": "stream",
     "text": [
      "Improved Classification Metrics:\n",
      "Accuracy: 0.9649122807017544\n",
      "Precision: 0.971830985915493\n",
      "Recall: 0.971830985915493\n",
      "F1 Score: 0.971830985915493\n",
      "\n",
      "Improved Regression Metrics:\n",
      "MAE: 0.41595939485911765\n",
      "MSE: 0.38251670809373284\n",
      "R-squared: 0.7080936452318685\n"
     ]
    }
   ],
   "source": [
    "## Улучшенная модель с оптимизацией\n",
    "pipeline = Pipeline([\n",
    "    ('scaler', StandardScaler()),\n",
    "    ('knn', KNeighborsClassifier())\n",
    "])\n",
    "\n",
    "param_grid = {\n",
    "    'knn__n_neighbors': [3, 5, 7, 9, 11],\n",
    "    'knn__weights': ['uniform', 'distance'],\n",
    "    'knn__p': [1, 2]  # Манхэттенское или Евклидово расстояние\n",
    "}\n",
    "\n",
    "grid_search = GridSearchCV(pipeline, param_grid, cv=5, scoring='accuracy')\n",
    "grid_search.fit(X_train, y_train)\n",
    "\n",
    "# Обучаем улучшенную модель\n",
    "best_classifier = grid_search.best_estimator_\n",
    "\n",
    "# Оценка улучшенной модели\n",
    "y_pred_improved = best_classifier.predict(X_test)\n",
    "accuracy_improved = accuracy_score(y_test, y_pred_improved)\n",
    "precision_improved = precision_score(y_test, y_pred_improved)\n",
    "recall_improved = recall_score(y_test, y_pred_improved)\n",
    "f1_improved = f1_score(y_test, y_pred_improved)\n",
    "\n",
    "print(f\"Improved Classification Metrics:\\nAccuracy: {accuracy_improved}\\nPrecision: {precision_improved}\\nRecall: {recall_improved}\\nF1 Score: {f1_improved}\")\n",
    "\n",
    "# Загрузка данных для регрессии\n",
    "boston = fetch_california_housing()\n",
    "X_boston, y_boston = boston.data, boston.target\n",
    "\n",
    "# Разделение данных на тренировочную и тестовую выборки\n",
    "X_train_boston, X_test_boston, y_train_boston, y_test_boston = train_test_split(X_boston, y_boston, test_size=0.2, random_state=42)\n",
    "\n",
    "# Пайплайн для регрессии\n",
    "pipeline_boston = Pipeline([\n",
    "    ('imputer', SimpleImputer(strategy='median')),\n",
    "    ('scaler', StandardScaler()),\n",
    "    ('polynomial', PolynomialFeatures(degree=2, include_bias=False)),\n",
    "    ('knn', KNeighborsRegressor())\n",
    "])\n",
    "\n",
    "# Подбор гиперпараметров для регрессии\n",
    "param_grid_reg = {\n",
    "    'knn__n_neighbors': [3, 5, 7],\n",
    "    'knn__weights': ['uniform', 'distance'],\n",
    "    'knn__p': [1, 2]  # Манхэттенское или Евклидово расстояние\n",
    "}\n",
    "\n",
    "grid_search_boston = GridSearchCV(pipeline_boston, param_grid_reg, cv=5, scoring='neg_mean_squared_error')\n",
    "grid_search_boston.fit(X_train_boston, y_train_boston)\n",
    "\n",
    "# Обучаем модель, используя лучшие гиперпараметры\n",
    "best_regressor = grid_search_boston.best_estimator_\n",
    "\n",
    "# Оценка модели для регрессии\n",
    "y_pred_boston = best_regressor.predict(X_test_boston)\n",
    "mae = mean_absolute_error(y_test_boston, y_pred_boston)\n",
    "mse = mean_squared_error(y_test_boston, y_pred_boston)\n",
    "r2 = r2_score(y_test_boston, y_pred_boston)\n",
    "\n",
    "print(f\"\\nImproved Regression Metrics:\\nMAE: {mae}\\nMSE: {mse}\\nR-squared: {r2}\")"
   ]
  },
  {
   "cell_type": "code",
   "execution_count": 14,
   "metadata": {},
   "outputs": [],
   "source": [
    "from collections import Counter\n",
    "\n",
    "\n",
    "class CustomKNNClassifier:\n",
    "    def __init__(self, n_neighbors=3):\n",
    "        self.n_neighbors = n_neighbors\n",
    "\n",
    "    def fit(self, X, y):\n",
    "        self.X_train = X\n",
    "        self.y_train = y\n",
    "\n",
    "    def predict(self, X):\n",
    "        predictions = [self._predict(x) for x in X]\n",
    "        return np.array(predictions)\n",
    "\n",
    "    def _predict(self, x):\n",
    "        # Вычисление расстояний от x до всех точек в обучающем наборе\n",
    "        distances = [np.linalg.norm(x - x_train) for x_train in self.X_train]\n",
    "        # Получение k ближайших точек\n",
    "        k_indices = np.argsort(distances)[:self.n_neighbors]\n",
    "        k_nearest_labels = [self.y_train[i] for i in k_indices]\n",
    "        # Определение наиболее встречающегося класса\n",
    "        most_common = Counter(k_nearest_labels).most_common(1)\n",
    "        return most_common[0][0]"
   ]
  },
  {
   "cell_type": "code",
   "execution_count": 15,
   "metadata": {},
   "outputs": [
    {
     "name": "stdout",
     "output_type": "stream",
     "text": [
      "Custom KNN Classification Metrics:\n",
      "Accuracy: 0.9298245614035088\n",
      "Precision: 0.9315068493150684\n",
      "Recall: 0.9577464788732394\n",
      "F1 Score: 0.9444444444444444\n"
     ]
    }
   ],
   "source": [
    "# Загрузка данных и разделение на обучающий и тестовый наборы\n",
    "data = load_breast_cancer()\n",
    "X, y = data.data, data.target\n",
    "X_train, X_test, y_train, y_test = train_test_split(X, y, test_size=0.2, random_state=42)\n",
    "\n",
    "# Обучение пользовательского KNN-классификатора\n",
    "knn = CustomKNNClassifier(n_neighbors=3)\n",
    "knn.fit(X_train, y_train)\n",
    "y_pred = knn.predict(X_test)\n",
    "\n",
    "# Оценка\n",
    "accuracy = accuracy_score(y_test, y_pred)\n",
    "precision = precision_score(y_test, y_pred)\n",
    "recall = recall_score(y_test, y_pred)\n",
    "f1 = f1_score(y_test, y_pred)\n",
    "\n",
    "print(f\"Custom KNN Classification Metrics:\\nAccuracy: {accuracy}\\nPrecision: {precision}\\nRecall: {recall}\\nF1 Score: {f1}\")"
   ]
  },
  {
   "cell_type": "code",
   "execution_count": 16,
   "metadata": {},
   "outputs": [],
   "source": [
    "class CustomLinearRegression:\n",
    "    def __init__(self):\n",
    "        self.coef_ = None\n",
    "        self.intercept_ = None\n",
    "\n",
    "    def fit(self, X, y):\n",
    "        X_b = np.c_[np.ones((X.shape[0], 1)), X]  # Добавляем столбец единиц к X\n",
    "        theta_best = np.linalg.inv(X_b.T.dot(X_b)).dot(X_b.T).dot(y)\n",
    "        self.intercept_ = theta_best[0]\n",
    "        self.coef_ = theta_best[1:]\n",
    "\n",
    "    def predict(self, X):\n",
    "        X_b = np.c_[np.ones((X.shape[0], 1)), X]  # Добавляем столбец единиц к X\n",
    "        return X_b.dot(np.r_[self.intercept_, self.coef_])"
   ]
  },
  {
   "cell_type": "code",
   "execution_count": 17,
   "metadata": {},
   "outputs": [
    {
     "name": "stdout",
     "output_type": "stream",
     "text": [
      "Custom Linear Regression Metrics:\n",
      "MAE: 0.5332001304966606\n",
      "MSE: 0.5558915986946272\n",
      "R-squared: 0.5757877060329217\n"
     ]
    }
   ],
   "source": [
    "# Использу fetch_california_housing()\n",
    "data_reg = fetch_california_housing()\n",
    "X_reg, y_reg = data_reg.data, data_reg.target\n",
    "X_train_reg, X_test_reg, y_train_reg, y_test_reg = train_test_split(X_reg, y_reg, test_size=0.2, random_state=42)\n",
    "\n",
    "# Обучение пользовательской линейной регрессии\n",
    "lin_reg = CustomLinearRegression()\n",
    "lin_reg.fit(X_train_reg, y_train_reg)\n",
    "y_pred_reg = lin_reg.predict(X_test_reg)\n",
    "\n",
    "# Оценка\n",
    "mae = mean_absolute_error(y_test_reg, y_pred_reg)\n",
    "mse = mean_squared_error(y_test_reg, y_pred_reg)\n",
    "r2 = r2_score(y_test_reg, y_pred_reg)\n",
    "\n",
    "print(f\"Custom Linear Regression Metrics:\\nMAE: {mae}\\nMSE: {mse}\\nR-squared: {r2}\")"
   ]
  },
  {
   "cell_type": "code",
   "execution_count": 18,
   "metadata": {},
   "outputs": [
    {
     "name": "stdout",
     "output_type": "stream",
     "text": [
      "Improved Custom KNN Classification Metrics:\n",
      "Accuracy: 0.9473684210526315\n",
      "Precision: 0.9577464788732394\n",
      "Recall: 0.9577464788732394\n",
      "F1 Score: 0.9577464788732394\n"
     ]
    }
   ],
   "source": [
    "from sklearn.preprocessing import StandardScaler\n",
    "from sklearn.model_selection import GridSearchCV\n",
    "\n",
    "class ImprovedCustomKNNClassifier(CustomKNNClassifier):\n",
    "    def fit(self, X, y):\n",
    "        # Стандартизация данных\n",
    "        self.scaler = StandardScaler().fit(X)\n",
    "        X_scaled = self.scaler.transform(X)\n",
    "        super().fit(X_scaled, y)\n",
    "\n",
    "    def predict(self, X):\n",
    "        X_scaled = self.scaler.transform(X)\n",
    "        return super().predict(X_scaled)\n",
    "\n",
    "# Используем улучшенную версию\n",
    "improved_knn = ImprovedCustomKNNClassifier(n_neighbors=3)\n",
    "improved_knn.fit(X_train, y_train)\n",
    "y_pred_improved = improved_knn.predict(X_test)\n",
    "\n",
    "# Оценка\n",
    "accuracy_improved = accuracy_score(y_test, y_pred_improved)\n",
    "precision_improved = precision_score(y_test, y_pred_improved)\n",
    "recall_improved = recall_score(y_test, y_pred_improved)\n",
    "f1_improved = f1_score(y_test, y_pred_improved)\n",
    "\n",
    "print(f\"Improved Custom KNN Classification Metrics:\\nAccuracy: {accuracy_improved}\\nPrecision: {precision_improved}\\nRecall: {recall_improved}\\nF1 Score: {f1_improved}\")"
   ]
  },
  {
   "cell_type": "code",
   "execution_count": 19,
   "metadata": {},
   "outputs": [
    {
     "name": "stdout",
     "output_type": "stream",
     "text": [
      "Improved Custom Linear Regression Metrics:\n",
      "MAE: 0.5332001304956562\n",
      "MSE: 0.5558915986952448\n",
      "R-squared: 0.5757877060324503\n"
     ]
    }
   ],
   "source": [
    "class ImprovedCustomLinearRegression(CustomLinearRegression):\n",
    "    def fit(self, X, y):\n",
    "        # Стандартизация данных\n",
    "        self.scaler = StandardScaler().fit(X)\n",
    "        X_scaled = self.scaler.transform(X)\n",
    "        super().fit(X_scaled, y)\n",
    "\n",
    "    def predict(self, X):\n",
    "        X_scaled = self.scaler.transform(X)\n",
    "        return super().predict(X_scaled)\n",
    "\n",
    "# Используем улучшенную версию\n",
    "improved_lin_reg = ImprovedCustomLinearRegression()\n",
    "improved_lin_reg.fit(X_train_reg, y_train_reg)\n",
    "y_pred_reg_improved = improved_lin_reg.predict(X_test_reg)\n",
    "\n",
    "# Оценка\n",
    "mae_improved = mean_absolute_error(y_test_reg, y_pred_reg_improved)\n",
    "mse_improved = mean_squared_error(y_test_reg, y_pred_reg_improved)\n",
    "r2_improved = r2_score(y_test_reg, y_pred_reg_improved)\n",
    "\n",
    "print(f\"Improved Custom Linear Regression Metrics:\\nMAE: {mae_improved}\\nMSE: {mse_improved}\\nR-squared: {r2_improved}\")"
   ]
  }
 ],
 "metadata": {
  "kernelspec": {
   "display_name": "venv",
   "language": "python",
   "name": "python3"
  },
  "language_info": {
   "codemirror_mode": {
    "name": "ipython",
    "version": 3
   },
   "file_extension": ".py",
   "mimetype": "text/x-python",
   "name": "python",
   "nbconvert_exporter": "python",
   "pygments_lexer": "ipython3",
   "version": "3.9.21"
  }
 },
 "nbformat": 4,
 "nbformat_minor": 2
}
