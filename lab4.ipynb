{
 "cells": [
  {
   "cell_type": "code",
   "execution_count": 11,
   "metadata": {},
   "outputs": [],
   "source": [
    "from sklearn.datasets import load_breast_cancer\n",
    "from sklearn.model_selection import train_test_split\n",
    "from sklearn.ensemble import RandomForestClassifier\n",
    "from sklearn.metrics import accuracy_score, precision_score, recall_score, f1_score\n"
   ]
  },
  {
   "cell_type": "code",
   "execution_count": 12,
   "metadata": {},
   "outputs": [
    {
     "name": "stdout",
     "output_type": "stream",
     "text": [
      "Baseline Random Forest Classification Metrics:\n",
      "Accuracy: 0.9649122807017544\n",
      "Precision: 0.958904109589041\n",
      "Recall: 0.9859154929577465\n",
      "F1 Score: 0.9722222222222222\n"
     ]
    }
   ],
   "source": [
    "# Загрузка данных\n",
    "data_class = load_breast_cancer()\n",
    "X_class, y_class = data_class.data, data_class.target\n",
    "\n",
    "# Разделение данных на тренировочную и тестовую выборки\n",
    "X_train_class, X_test_class, y_train_class, y_test_class = train_test_split(X_class, y_class, test_size=0.2, random_state=42)\n",
    "\n",
    "# Бейзлайн модель случайного леса для классификации\n",
    "forest_clf = RandomForestClassifier(random_state=42)\n",
    "forest_clf.fit(X_train_class, y_train_class)\n",
    "y_pred_class = forest_clf.predict(X_test_class)\n",
    "\n",
    "# Оценка\n",
    "accuracy_class = accuracy_score(y_test_class, y_pred_class)\n",
    "precision_class = precision_score(y_test_class, y_pred_class)\n",
    "recall_class = recall_score(y_test_class, y_pred_class)\n",
    "f1_class = f1_score(y_test_class, y_pred_class)\n",
    "\n",
    "print(f\"Baseline Random Forest Classification Metrics:\\nAccuracy: {accuracy_class}\\nPrecision: {precision_class}\\nRecall: {recall_class}\\nF1 Score: {f1_class}\")"
   ]
  },
  {
   "cell_type": "code",
   "execution_count": 9,
   "metadata": {},
   "outputs": [],
   "source": [
    "from sklearn.datasets import fetch_california_housing\n",
    "from sklearn.model_selection import train_test_split\n",
    "from sklearn.ensemble import RandomForestRegressor\n",
    "from sklearn.metrics import mean_absolute_error, mean_squared_error, r2_score"
   ]
  },
  {
   "cell_type": "code",
   "execution_count": 10,
   "metadata": {},
   "outputs": [
    {
     "name": "stdout",
     "output_type": "stream",
     "text": [
      "Baseline Random Forest Regression Metrics:\n",
      "MAE: 0.327735120518411\n",
      "MSE: 0.2558757193644326\n",
      "R-squared: 0.8047359842513278\n"
     ]
    }
   ],
   "source": [
    "# Загрузка данных\n",
    "data_reg = fetch_california_housing()\n",
    "X_reg, y_reg = data_reg.data, data_reg.target\n",
    "\n",
    "# Разделение данных на тренировочную и тестовую выборки\n",
    "X_train_reg, X_test_reg, y_train_reg, y_test_reg = train_test_split(X_reg, y_reg, test_size=0.2, random_state=42)\n",
    "\n",
    "# Бейзлайн модель случайного леса для регрессии\n",
    "forest_reg = RandomForestRegressor(random_state=42)\n",
    "forest_reg.fit(X_train_reg, y_train_reg)\n",
    "y_pred_reg = forest_reg.predict(X_test_reg)\n",
    "\n",
    "# Оценка\n",
    "mae_reg = mean_absolute_error(y_test_reg, y_pred_reg)\n",
    "mse_reg = mean_squared_error(y_test_reg, y_pred_reg)\n",
    "r2_reg = r2_score(y_test_reg, y_pred_reg)\n",
    "\n",
    "print(f\"Baseline Random Forest Regression Metrics:\\nMAE: {mae_reg}\\nMSE: {mse_reg}\\nR-squared: {r2_reg}\")"
   ]
  },
  {
   "cell_type": "code",
   "execution_count": 13,
   "metadata": {},
   "outputs": [],
   "source": [
    "from sklearn.model_selection import GridSearchCV\n",
    "from sklearn.model_selection import RandomizedSearchCV"
   ]
  },
  {
   "cell_type": "code",
   "execution_count": 14,
   "metadata": {},
   "outputs": [
    {
     "name": "stderr",
     "output_type": "stream",
     "text": [
      "/Users/rudadadadada/mult/venv/lib/python3.9/site-packages/sklearn/model_selection/_search.py:317: UserWarning: The total space of parameters 8 is smaller than n_iter=10. Running 8 iterations. For exhaustive searches, use GridSearchCV.\n",
      "  warnings.warn(\n"
     ]
    },
    {
     "name": "stdout",
     "output_type": "stream",
     "text": [
      "Improved Random Forest Classification Metrics:\n",
      "Accuracy: 0.9649122807017544\n",
      "Precision: 0.958904109589041\n",
      "Recall: 0.9859154929577465\n",
      "F1 Score: 0.9722222222222222\n"
     ]
    }
   ],
   "source": [
    "# Параметры для поиска\n",
    "param_dist = {\n",
    "    'n_estimators': [50, 100],\n",
    "    'max_depth': [10, 20],\n",
    "    'min_samples_split': [2, 5],\n",
    "    'min_samples_leaf': [1]\n",
    "}\n",
    "random_search = RandomizedSearchCV(\n",
    "    RandomForestClassifier(random_state=42),\n",
    "    param_distributions=param_dist,\n",
    "    n_iter=10,  # Количество случайных наборов параметров\n",
    "    cv=3,\n",
    "    scoring='f1',\n",
    "    n_jobs=-1,\n",
    "    random_state=42\n",
    ")\n",
    "\n",
    "random_search.fit(X_train_class, y_train_class)\n",
    "\n",
    "# Лучший классификатор\n",
    "best_forest_clf = random_search.best_estimator_\n",
    "\n",
    "# Оценка\n",
    "y_pred_class_improved = best_forest_clf.predict(X_test_class)\n",
    "accuracy_class_improved = accuracy_score(y_test_class, y_pred_class_improved)\n",
    "precision_class_improved = precision_score(y_test_class, y_pred_class_improved)\n",
    "recall_class_improved = recall_score(y_test_class, y_pred_class_improved)\n",
    "f1_class_improved = f1_score(y_test_class, y_pred_class_improved)\n",
    "\n",
    "print(f\"Improved Random Forest Classification Metrics:\\nAccuracy: {accuracy_class_improved}\\nPrecision: {precision_class_improved}\\nRecall: {recall_class_improved}\\nF1 Score: {f1_class_improved}\")"
   ]
  },
  {
   "cell_type": "code",
   "execution_count": 5,
   "metadata": {},
   "outputs": [
    {
     "name": "stdout",
     "output_type": "stream",
     "text": [
      "Improved Random Forest Regression Metrics:\n",
      "MAE: 0.32789013486432933\n",
      "MSE: 0.2560326381508722\n",
      "R-squared: 0.8046162363031335\n"
     ]
    }
   ],
   "source": [
    "# Параметры для перебора\n",
    "param_grid = {\n",
    "    'n_estimators': [50, 100],\n",
    "    'max_depth': [10, 20],\n",
    "    'min_samples_split': [2, 5],\n",
    "    'min_samples_leaf': [1]\n",
    "}\n",
    "   \n",
    "\n",
    "grid_search = GridSearchCV(RandomForestRegressor(random_state=42), param_grid, cv=3, scoring='neg_mean_squared_error', n_jobs=-1)\n",
    "grid_search.fit(X_train_reg, y_train_reg)\n",
    "\n",
    "# Лучший регрессор\n",
    "best_forest_reg = grid_search.best_estimator_\n",
    "\n",
    "# Оценка\n",
    "y_pred_reg_improved = best_forest_reg.predict(X_test_reg)\n",
    "mae_reg_improved = mean_absolute_error(y_test_reg, y_pred_reg_improved)\n",
    "mse_reg_improved = mean_squared_error(y_test_reg, y_pred_reg_improved)\n",
    "r2_reg_improved = r2_score(y_test_reg, y_pred_reg_improved)\n",
    "\n",
    "print(f\"Improved Random Forest Regression Metrics:\\nMAE: {mae_reg_improved}\\nMSE: {mse_reg_improved}\\nR-squared: {r2_reg_improved}\")"
   ]
  },
  {
   "cell_type": "code",
   "execution_count": 17,
   "metadata": {},
   "outputs": [],
   "source": [
    "from sklearn.tree import DecisionTreeClassifier\n",
    "import numpy as np"
   ]
  },
  {
   "cell_type": "code",
   "execution_count": 19,
   "metadata": {},
   "outputs": [
    {
     "name": "stdout",
     "output_type": "stream",
     "text": [
      "Custom Random Forest Classification Metrics:\n",
      "Accuracy: 0.9473684210526315\n",
      "Precision: 0.9577464788732394\n",
      "Recall: 0.9577464788732394\n",
      "F1 Score: 0.9577464788732394\n"
     ]
    }
   ],
   "source": [
    "class CustomRandomForestClassifier:\n",
    "    def __init__(self, n_estimators=100, max_depth=None, min_samples_split=2, min_samples_leaf=1):\n",
    "        self.n_estimators = n_estimators\n",
    "        self.max_depth = max_depth\n",
    "        self.min_samples_split = min_samples_split\n",
    "        self.min_samples_leaf = min_samples_leaf\n",
    "        self.trees = []\n",
    "\n",
    "    def fit(self, X, y):\n",
    "        self.trees = []\n",
    "\n",
    "        # Обучаем каждое дерево на случайном подмножестве данных\n",
    "        for _ in range(self.n_estimators):\n",
    "            idxs = np.random.choice(len(X), len(X), replace=True)\n",
    "            X_sample, y_sample = X[idxs], y[idxs]\n",
    "            tree = DecisionTreeClassifier(max_depth=self.max_depth,\n",
    "                                          min_samples_split=self.min_samples_split,\n",
    "                                          min_samples_leaf=self.min_samples_leaf)\n",
    "            tree.fit(X_sample, y_sample)\n",
    "            self.trees.append(tree)\n",
    "\n",
    "    def predict(self, X):\n",
    "        # Получаем предсказания от каждого дерева и используем метод большинства\n",
    "        tree_preds = np.array([tree.predict(X) for tree in self.trees])\n",
    "        return np.apply_along_axis(lambda x: np.bincount(x).argmax(), axis=0, arr=tree_preds)\n",
    "\n",
    "# Обучение и оценка кастомного случайного леса\n",
    "custom_forest_clf = CustomRandomForestClassifier(n_estimators=10, max_depth=10)\n",
    "custom_forest_clf.fit(X_train_class, y_train_class)\n",
    "y_pred_class_custom = custom_forest_clf.predict(X_test_class)\n",
    "\n",
    "accuracy_class_custom = accuracy_score(y_test_class, y_pred_class_custom)\n",
    "precision_class_custom = precision_score(y_test_class, y_pred_class_custom)\n",
    "recall_class_custom = recall_score(y_test_class, y_pred_class_custom)\n",
    "f1_class_custom = f1_score(y_test_class, y_pred_class_custom)\n",
    "\n",
    "print(f\"Custom Random Forest Classification Metrics:\\nAccuracy: {accuracy_class_custom}\\nPrecision: {precision_class_custom}\\nRecall: {recall_class_custom}\\nF1 Score: {f1_class_custom}\")\n"
   ]
  },
  {
   "cell_type": "code",
   "execution_count": 7,
   "metadata": {},
   "outputs": [
    {
     "name": "stdout",
     "output_type": "stream",
     "text": [
      "Custom Random Forest Regression Metrics:\n",
      "MAE: 0.367850646589241\n",
      "MSE: 0.30210572879511216\n",
      "R-squared: 0.7694569147407242\n"
     ]
    }
   ],
   "source": [
    "import numpy as np\n",
    "from sklearn.tree import DecisionTreeRegressor\n",
    "\n",
    "class CustomRandomForestRegressor:\n",
    "    def __init__(self, n_estimators=100, max_depth=None, min_samples_split=2, min_samples_leaf=1):\n",
    "        self.n_estimators = n_estimators\n",
    "        self.max_depth = max_depth\n",
    "        self.min_samples_split = min_samples_split\n",
    "        self.min_samples_leaf = min_samples_leaf\n",
    "        self.trees = []\n",
    "\n",
    "    def fit(self, X, y):\n",
    "        self.trees = []\n",
    "\n",
    "        # Обучаем каждое дерево на случайном подмножестве данных\n",
    "        for _ in range(self.n_estimators):\n",
    "            idxs = np.random.choice(len(X), len(X), replace=True)\n",
    "            X_sample, y_sample = X[idxs], y[idxs]\n",
    "            tree = DecisionTreeRegressor(max_depth=self.max_depth,\n",
    "                                         min_samples_split=self.min_samples_split,\n",
    "                                         min_samples_leaf=self.min_samples_leaf)\n",
    "            tree.fit(X_sample, y_sample)\n",
    "            self.trees.append(tree)\n",
    "\n",
    "    def predict(self, X):\n",
    "        # Получаем предсказания от каждого дерева и усредняем их\n",
    "        tree_preds = np.array([tree.predict(X) for tree in self.trees])\n",
    "        return np.mean(tree_preds, axis=0)\n",
    "\n",
    "# Обучение и оценка кастомного случайного леса\n",
    "custom_forest_reg = CustomRandomForestRegressor(n_estimators=10, max_depth=10)\n",
    "custom_forest_reg.fit(X_train_reg, y_train_reg)\n",
    "y_pred_reg_custom = custom_forest_reg.predict(X_test_reg)\n",
    "\n",
    "mae_reg_custom = mean_absolute_error(y_test_reg, y_pred_reg_custom)\n",
    "mse_reg_custom = mean_squared_error(y_test_reg, y_pred_reg_custom)\n",
    "r2_reg_custom = r2_score(y_test_reg, y_pred_reg_custom)\n",
    "\n",
    "print(f\"Custom Random Forest Regression Metrics:\\nMAE: {mae_reg_custom}\\nMSE: {mse_reg_custom}\\nR-squared: {r2_reg_custom}\")\n"
   ]
  }
 ],
 "metadata": {
  "kernelspec": {
   "display_name": "venv",
   "language": "python",
   "name": "python3"
  },
  "language_info": {
   "codemirror_mode": {
    "name": "ipython",
    "version": 3
   },
   "file_extension": ".py",
   "mimetype": "text/x-python",
   "name": "python",
   "nbconvert_exporter": "python",
   "pygments_lexer": "ipython3",
   "version": "3.9.21"
  }
 },
 "nbformat": 4,
 "nbformat_minor": 2
}
